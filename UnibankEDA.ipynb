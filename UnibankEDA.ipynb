{
 "cells": [
  {
   "cell_type": "code",
   "execution_count": 1,
   "id": "4290ad57",
   "metadata": {},
   "outputs": [],
   "source": [
    "%matplotlib inline"
   ]
  },
  {
   "cell_type": "code",
   "execution_count": 2,
   "id": "49838312",
   "metadata": {},
   "outputs": [],
   "source": [
    "import pandas"
   ]
  },
  {
   "cell_type": "code",
   "execution_count": 3,
   "id": "70e91b65-dd1d-43af-bd0b-74e7258081ef",
   "metadata": {},
   "outputs": [
    {
     "name": "stdout",
     "output_type": "stream",
     "text": [
      "<class 'pandas.core.frame.DataFrame'>\n",
      "RangeIndex: 15784 entries, 0 to 15783\n",
      "Data columns (total 23 columns):\n",
      " #   Column                        Non-Null Count  Dtype  \n",
      "---  ------                        --------------  -----  \n",
      " 0   Genre                         15784 non-null  object \n",
      " 1   Date de Naissance             15784 non-null  object \n",
      " 2   Status Conjugal               14633 non-null  object \n",
      " 3   Departement                   15663 non-null  object \n",
      " 4   Ville                         15663 non-null  object \n",
      " 5   Quartier                      0 non-null      float64\n",
      " 6   Salarie                       0 non-null      float64\n",
      " 7   Secteur                       14096 non-null  object \n",
      " 8   Salaire (mensuel en gourdes)  0 non-null      float64\n",
      " 9   Departement.1                 0 non-null      float64\n",
      " 10  Ville.1                       0 non-null      float64\n",
      " 11  Zone                          0 non-null      float64\n",
      " 12  Niveau d'Education            13940 non-null  object \n",
      " 13  But du Pret                   0 non-null      float64\n",
      " 14  Montant du Pret (en gourdes)  15784 non-null  int64  \n",
      " 15  Duree du Pret (en mois)       15784 non-null  int64  \n",
      " 16  Date du Contract              15784 non-null  object \n",
      " 17  Taux d'Interet (mensuel)      15784 non-null  float64\n",
      " 18  Colaterale                    0 non-null      float64\n",
      " 19  Valeur Estime du Colaterale   0 non-null      float64\n",
      " 20  Status                        0 non-null      float64\n",
      " 21  payment restant (en mois)     15784 non-null  float64\n",
      " 22  payment manque (en mois)      15784 non-null  int64  \n",
      "dtypes: float64(12), int64(3), object(8)\n",
      "memory usage: 2.8+ MB\n"
     ]
    }
   ],
   "source": [
    "dataUnibank = pandas.read_parquet(\"unibank.parq\")\n",
    "dataUnibank.info()"
   ]
  },
  {
   "cell_type": "code",
   "execution_count": 4,
   "id": "fb5e1a6d-f46e-4386-a58b-787fcc9300a7",
   "metadata": {},
   "outputs": [
    {
     "data": {
      "text/plain": [
       "Index(['Genre', 'Date de Naissance', 'Status Conjugal', 'Departement', 'Ville',\n",
       "       'Quartier', 'Salarie', 'Secteur', 'Salaire (mensuel en gourdes)',\n",
       "       'Departement.1', 'Ville.1', 'Zone', 'Niveau d'Education', 'But du Pret',\n",
       "       'Montant du Pret (en gourdes)', 'Duree du Pret (en mois)',\n",
       "       'Date du Contract', 'Taux d'Interet (mensuel)', 'Colaterale',\n",
       "       'Valeur Estime du Colaterale', 'Status', 'payment restant (en mois)',\n",
       "       'payment manque (en mois)'],\n",
       "      dtype='object')"
      ]
     },
     "execution_count": 4,
     "metadata": {},
     "output_type": "execute_result"
    }
   ],
   "source": [
    "dataUnibank.columns"
   ]
  },
  {
   "cell_type": "code",
   "execution_count": null,
   "id": "746ca120-0908-43f1-aa62-83488d70ae4b",
   "metadata": {},
   "outputs": [],
   "source": []
  }
 ],
 "metadata": {
  "kernelspec": {
   "display_name": "Python 3 (ipykernel)",
   "language": "python",
   "name": "python3"
  },
  "language_info": {
   "codemirror_mode": {
    "name": "ipython",
    "version": 3
   },
   "file_extension": ".py",
   "mimetype": "text/x-python",
   "name": "python",
   "nbconvert_exporter": "python",
   "pygments_lexer": "ipython3",
   "version": "3.9.10"
  }
 },
 "nbformat": 4,
 "nbformat_minor": 5
}
