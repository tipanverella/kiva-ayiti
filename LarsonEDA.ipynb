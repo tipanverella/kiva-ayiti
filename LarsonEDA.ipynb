{
 "cells": [
  {
   "cell_type": "code",
   "execution_count": 5,
   "id": "a2b8e58b-4e45-4283-9c12-448333aeb713",
   "metadata": {},
   "outputs": [
    {
     "name": "stdout",
     "output_type": "stream",
     "text": [
      "C:urrent working directory: /Users/fanfan/git/kiva-ayiti\n"
     ]
    }
   ],
   "source": [
    "import numpy  as np\n",
    "import os\n",
    "cwd=os.getcwd()\n",
    "print(\"C:urrent working directory: {0}\".format(os.getcwd()))\n"
   ]
  },
  {
   "cell_type": "code",
   "execution_count": 42,
   "id": "157ab218-6691-47c3-8a2f-718c23913cf8",
   "metadata": {},
   "outputs": [
    {
     "name": "stdout",
     "output_type": "stream",
     "text": [
      "C:current working directory: /Users/fanfan/git/kiva-ayiti\n",
      "Taux d'Interet (Mensuel)\n"
     ]
    },
    {
     "ename": "TypeError",
     "evalue": "'module' object is not callable",
     "output_type": "error",
     "traceback": [
      "\u001b[0;31m---------------------------------------------------------------------------\u001b[0m",
      "\u001b[0;31mTypeError\u001b[0m                                 Traceback (most recent call last)",
      "Input \u001b[0;32mIn [42]\u001b[0m, in \u001b[0;36m<cell line: 13>\u001b[0;34m()\u001b[0m\n\u001b[1;32m     13\u001b[0m \u001b[38;5;28;01mfor\u001b[39;00m col \u001b[38;5;129;01min\u001b[39;00m dfacme\u001b[38;5;241m.\u001b[39mselect_dtypes(\u001b[38;5;124m'\u001b[39m\u001b[38;5;124mfloat\u001b[39m\u001b[38;5;124m'\u001b[39m):\n\u001b[1;32m     14\u001b[0m         \u001b[38;5;28mprint\u001b[39m(col)\n\u001b[0;32m---> 15\u001b[0m         \u001b[43mplt\u001b[49m\u001b[38;5;241;43m.\u001b[39;49m\u001b[43mfigure\u001b[49m\u001b[43m(\u001b[49m\u001b[43m)\u001b[49m\n\u001b[1;32m     16\u001b[0m         sns\u001b[38;5;241m.\u001b[39mdistplot(dfacme[col])\n",
      "\u001b[0;31mTypeError\u001b[0m: 'module' object is not callable"
     ]
    }
   ],
   "source": [
    "import numpy as np\n",
    "import pandas as pd\n",
    "import matplotlib as plt\n",
    "%matplotlib inline\n",
    "import seaborn as sns\n",
    "import os\n",
    "cwd=os.getcwd()\n",
    "print(\"C:current working directory: {0}\".format(os.getcwd()))\n",
    "dfacme=pd.read_excel(\"acme PF-Dec2021-Part-Sent.xlsx\")\n",
    "dfacme.head(15)\n",
    "\n",
    "#dfacme.info()\n",
    "for col in dfacme.select_dtypes('float'):\n",
    "        print(col)\n",
    "        plt.figure()\n",
    "        sns.distplot(dfacme[col])"
   ]
  },
  {
   "cell_type": "code",
   "execution_count": 3,
   "id": "5a81b35e-ece2-4cd9-be7d-51f03ec33381",
   "metadata": {},
   "outputs": [],
   "source": [
    "%matplotlib inline\n",
    "import seaborn as sns"
   ]
  },
  {
   "cell_type": "code",
   "execution_count": 4,
   "id": "590b9e25-6160-4273-ba85-e57797ef67d7",
   "metadata": {},
   "outputs": [
    {
     "name": "stdout",
     "output_type": "stream",
     "text": [
      "<class 'pandas.core.frame.DataFrame'>\n",
      "RangeIndex: 2993 entries, 0 to 2992\n",
      "Data columns (total 29 columns):\n",
      " #   Column           Non-Null Count  Dtype         \n",
      "---  ------           --------------  -----         \n",
      " 0   Unnamed: 0       2993 non-null   int64         \n",
      " 1   Agency           2989 non-null   object        \n",
      " 2   Status           2989 non-null   object        \n",
      " 3   Client ID        2993 non-null   int64         \n",
      " 4   Client Name      2993 non-null   object        \n",
      " 5   Sex              2993 non-null   object        \n",
      " 6   Group            2993 non-null   object        \n",
      " 7   Product ID       2420 non-null   float64       \n",
      " 8   Product Name     2420 non-null   object        \n",
      " 9   Loan Number      2993 non-null   int64         \n",
      " 10  Granted          2993 non-null   int64         \n",
      " 11  Rate             2993 non-null   float64       \n",
      " 12  Duration         2993 non-null   int64         \n",
      " 13  Date             2993 non-null   datetime64[ns]\n",
      " 14  Cycle            2993 non-null   int64         \n",
      " 15  Balance          2993 non-null   float64       \n",
      " 16  Late Principal   2993 non-null   float64       \n",
      " 17  Late Interest    2993 non-null   float64       \n",
      " 18  Days Late        2993 non-null   int64         \n",
      " 19  < 30 Day         2993 non-null   float64       \n",
      " 20  < 60 Day         2993 non-null   float64       \n",
      " 21  < 90 Day         2993 non-null   float64       \n",
      " 22  < 180 Day        2993 non-null   float64       \n",
      " 23  180 Day or more  2993 non-null   float64       \n",
      " 24  Last Payment     2889 non-null   object        \n",
      " 25  Account Balance  2682 non-null   float64       \n",
      " 26  Last             2682 non-null   datetime64[ns]\n",
      " 27  Agent            2993 non-null   int64         \n",
      " 28  Status.1         2993 non-null   object        \n",
      "dtypes: datetime64[ns](2), float64(11), int64(8), object(8)\n",
      "memory usage: 678.2+ KB\n"
     ]
    }
   ],
   "source": [
    "dffaf = pd.read_csv(\"LarsonC.csv\")\n",
    "dffaf[\"Date\"]= pd.to_datetime(dffaf[\"Date\"], dayfirst=True)\n",
    "dffaf[\"Last\"]= pd.to_datetime(dffaf[\"Last\"], dayfirst=True)\n",
    "dffaf.info()"
   ]
  },
  {
   "cell_type": "code",
   "execution_count": null,
   "id": "e403550f-3302-4562-b8d9-3bee9c0d5084",
   "metadata": {},
   "outputs": [],
   "source": [
    "\n"
   ]
  }
 ],
 "metadata": {
  "kernelspec": {
   "display_name": "Python 3 (ipykernel)",
   "language": "python",
   "name": "python3"
  },
  "language_info": {
   "codemirror_mode": {
    "name": "ipython",
    "version": 3
   },
   "file_extension": ".py",
   "mimetype": "text/x-python",
   "name": "python",
   "nbconvert_exporter": "python",
   "pygments_lexer": "ipython3",
   "version": "3.9.10"
  }
 },
 "nbformat": 4,
 "nbformat_minor": 5
}
